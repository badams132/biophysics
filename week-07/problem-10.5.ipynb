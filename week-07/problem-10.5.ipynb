{
 "cells": [
  {
   "cell_type": "markdown",
   "id": "c59005a3",
   "metadata": {},
   "source": [
    "# 10.5 AVERAGE OVER MANY DRAWS\n",
    "\n",
    "Use this notebook to store your work for this problem."
   ]
  },
  {
   "cell_type": "code",
   "execution_count": 163,
   "id": "a53b67ec",
   "metadata": {},
   "outputs": [
    {
     "name": "stdout",
     "output_type": "stream",
     "text": [
      "[    0.   230.   447.   674.   880.  1065.  1304.  1493.  1714.  1932.\n",
      "  2132.  2359.  2554.  2718.  2883.  3066.  3246.  3408.  3565.  3756.\n",
      "  3941.  4104.  4279.  4444.  4621.  4790.  4941.  5102.  5257.  5402.\n",
      "  5560.  5673.  5799.  5955.  6113.  6248.  6409.  6563.  6683.  6853.\n",
      "  6938.  7076.  7225.  7334.  7442.  7547.  7681.  7784.  7900.  7995.\n",
      "  8101.  8218.  8352.  8490.  8599.  8681.  8771.  8867.  8961.  9017.\n",
      "  9140.  9257.  9350.  9434.  9550.  9637.  9743.  9822.  9912.  9992.\n",
      " 10092. 10186. 10247. 10334. 10384. 10466. 10549. 10618. 10705. 10745.\n",
      " 10813. 10897. 10970. 11051. 11141. 11192. 11246. 11293. 11358. 11435.\n",
      " 11479. 11581. 11662. 11708. 11758. 11806. 11853. 11932. 11992. 12018.\n",
      " 12076. 12171. 12224. 12296. 12356. 12423. 12486. 12529. 12621. 12636.\n",
      " 12678. 12740. 12818. 12878. 12945. 12973. 13048. 13082. 13126. 13189.\n",
      " 13250. 13262. 13312. 13330. 13400. 13464. 13465. 13510. 13537. 13572.\n",
      " 13574. 13619. 13641. 13670. 13701. 13697. 13737. 13788. 13828. 13906.\n",
      " 13964. 13983. 13986. 13990. 14006. 14030. 14062. 14090. 14110. 14147.\n",
      " 14181. 14219. 14238. 14248. 14287. 14294. 14286. 14290. 14325. 14353.\n",
      " 14358. 14381. 14425. 14461. 14487. 14529. 14534. 14599. 14586. 14628.\n",
      " 14651. 14656. 14658. 14688. 14689. 14729. 14773. 14792. 14832. 14848.\n",
      " 14839. 14843. 14874. 14908. 14898. 14901. 14915. 14915. 14940. 14970.\n",
      " 14966. 14996. 15005. 15013. 15063. 15058. 15059. 15099. 15138. 15197.\n",
      " 15196. 15228. 15235. 15240. 15268. 15247. 15209. 15192. 15218. 15252.\n",
      " 15276. 15253. 15269. 15303. 15294. 15304. 15302. 15320. 15330. 15338.\n",
      " 15369. 15356. 15380. 15367. 15380. 15386. 15373. 15382. 15416. 15406.\n",
      " 15433. 15458. 15473. 15473. 15477. 15471. 15448. 15414. 15455. 15472.\n",
      " 15484. 15519. 15537. 15546. 15518. 15534. 15572. 15591. 15604. 15611.\n",
      " 15648. 15642. 15659. 15662. 15641. 15665. 15664. 15678. 15703. 15703.\n",
      " 15716. 15709. 15726. 15719. 15709. 15688. 15687. 15723. 15724. 15703.\n",
      " 15739. 15718. 15723. 15719. 15744. 15756. 15768. 15755. 15768. 15790.\n",
      " 15798. 15810. 15825. 15855. 15867. 15882. 15907. 15908. 15924. 15940.\n",
      " 15935. 15938. 15961. 15932. 15947. 15944. 15972. 15952. 15933. 15942.\n",
      " 15950.]\n"
     ]
    },
    {
     "data": {
      "text/plain": [
       "[<matplotlib.lines.Line2D at 0x155779e9910>]"
      ]
     },
     "execution_count": 163,
     "metadata": {},
     "output_type": "execute_result"
    },
    {
     "data": {
      "image/png": "[encoded data removed]",
      "text/plain": [
       "<Figure size 432x288 with 1 Axes>"
      ]
     },
     "metadata": {
      "needs_background": "light"
     },
     "output_type": "display_data"
    }
   ],
   "source": [
    "import numpy as np\n",
    "import matplotlib.pyplot as plt\n",
    "from numpy.random import default_rng\n",
    "rand = default_rng().random\n",
    "\n",
    "\n",
    "\n",
    "l0 = 0\n",
    "beta_s = 1.5\n",
    "k_0 = 0.014\n",
    "\n",
    "N = 1000\n",
    "\n",
    "l = l0\n",
    "T = 0\n",
    "\n",
    "time = np.zeros(N)\n",
    "population = np.zeros(N)\n",
    "Time = np.linspace(0,300,301)\n",
    "#print(Time)\n",
    "LT = np.zeros(301)\n",
    "n = 0 \n",
    "\n",
    "\n",
    "for i in range(150):\n",
    "    T = 0\n",
    "    l = l0\n",
    "    n = 0\n",
    "    time = np.zeros(N)\n",
    "    population = np.zeros(N)\n",
    "    Time = np.linspace(0,300,301)\n",
    "   \n",
    "    while T < 300: \n",
    "        rate = beta_s + k_0 * l\n",
    "        t = - 1/rate * np.log(rand())\n",
    "        xi = beta_s / rate\n",
    "        event = rand() < xi\n",
    "        if event:\n",
    "            l = l+1\n",
    "        else:\n",
    "            l = l-1\n",
    "   \n",
    "        T=T+t\n",
    "    \n",
    "        time[n] = T\n",
    "        population[n] = l\n",
    "    \n",
    "        n = n+1\n",
    "\n",
    "    for j in range(301):\n",
    "\n",
    "\n",
    "        x = population[(0<time)*(time<Time[j])]\n",
    "\n",
    "\n",
    "        if len(x) == 0:\n",
    "            LT[j] += 0\n",
    "        else:\n",
    "            LT[j] += x[-1]\n",
    "          \n",
    "                \n",
    "print(LT)        \n",
    "\n",
    "#print(population)   \n",
    "#print(time)\n",
    "plt.plot(time,population,'.')\n",
    "plt.plot(Time,LT / 150,'.')"
   ]
  },
  {
   "cell_type": "code",
   "execution_count": null,
   "id": "da347b97",
   "metadata": {},
   "outputs": [],
   "source": []
  },
  {
   "cell_type": "markdown",
   "id": "197fe167",
   "metadata": {},
   "source": [
    "***REPLACE WITH YOUR COMMENTS.***"
   ]
  },
  {
   "cell_type": "markdown",
   "id": "2a008ae7",
   "metadata": {},
   "source": [
    "# The averaging function provided a smoother curve tha is a better fit for the data."
   ]
  },
  {
   "cell_type": "code",
   "execution_count": null,
   "id": "f630c3d0",
   "metadata": {},
   "outputs": [],
   "source": []
  }
 ],
 "metadata": {
  "kernelspec": {
   "display_name": "Python 3 (ipykernel)",
   "language": "python",
   "name": "python3"
  },
  "language_info": {
   "codemirror_mode": {
    "name": "ipython",
    "version": 3
   },
   "file_extension": ".py",
   "mimetype": "text/x-python",
   "name": "python",
   "nbconvert_exporter": "python",
   "pygments_lexer": "ipython3",
   "version": "3.9.7"
  }
 },
 "nbformat": 4,
 "nbformat_minor": 5
}
