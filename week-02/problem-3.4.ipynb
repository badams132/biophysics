{
 "cells": [
  {
   "cell_type": "markdown",
   "id": "5412ca32",
   "metadata": {},
   "source": [
    "# Problem 3.4\n",
    "\n",
    "This problem explores the \"Gambler's Fallacy\" --- the idea that after a string of losses, you are \"due\" for a win.\n",
    "\n",
    "We will represent __heads__ by $+1$ and __tails__ by $-1$.  The variable $X$ is the sum of ten such flips of a coin: the number of heads minus the number of tails."
   ]
  },
  {
   "cell_type": "code",
   "execution_count": 6,
   "id": "8248ee95",
   "metadata": {},
   "outputs": [],
   "source": [
    "# Standard setup\n",
    "import numpy as np\n",
    "import matplotlib.pyplot as plt\n",
    "\n",
    "# Get a random number generator.\n",
    "from numpy.random import default_rng\n",
    "rng = default_rng()\n",
    "rand = rng.random"
   ]
  },
  {
   "cell_type": "markdown",
   "id": "9efb4a03",
   "metadata": {},
   "source": [
    "Verify that the following code generates a sequence of 10 flips, as described in the problem.  Briefly explain how it works.\n",
    "\n",
    "-----"
   ]
  },
  {
   "cell_type": "code",
   "execution_count": 8,
   "id": "0bfd145a",
   "metadata": {},
   "outputs": [
    {
     "name": "stdout",
     "output_type": "stream",
     "text": [
      "Coin flips:  [ 1 -1 -1 -1 -1  1 -1  1 -1  1]\n",
      "Sum: X= -2\n"
     ]
    }
   ],
   "source": [
    "flips = 2*(rand(10) < 0.5) - 1\n",
    "X = flips.sum()\n",
    "\n",
    "print(\"Coin flips: \", flips)\n",
    "print(\"Sum: X=\", X)"
   ]
  },
  {
   "cell_type": "markdown",
   "id": "a06734d6",
   "metadata": {},
   "source": [
    "## flips gives us the value of 1 or -1 by multipling the generation of 10 random numbers evaluated if greater than or less than 0.5. the evaluation will give us 1 or 0 then subtract 1 from that.\n",
    "\n",
    "## X summs up the 10 numbers and gives us some sort of average of the 10 flips."
   ]
  },
  {
   "cell_type": "markdown",
   "id": "034186de",
   "metadata": {},
   "source": [
    "------\n",
    "\n",
    "## (a)\n",
    "\n",
    "Fill in the necessary Python code below."
   ]
  },
  {
   "cell_type": "code",
   "execution_count": 133,
   "id": "62ca501f",
   "metadata": {},
   "outputs": [
    {
     "name": "stdout",
     "output_type": "stream",
     "text": [
      "There were 228 trials that started with 5 heads.\n",
      "The average of X for these trials was <X>= 5.0614.\n"
     ]
    }
   ],
   "source": [
    "# Define the problem.\n",
    "Ntrials = 8000\n",
    "Nflips = 10\n",
    "Nstart = 5\n",
    "\n",
    "# Create an array to store the data we want.\n",
    "data = np.zeros(Ntrials)\n",
    "count = 0\n",
    "\n",
    "# Generate Ntrials sequences of Nflips coin flips, and sum.\n",
    "for n in range(Ntrials):\n",
    "    flips = 2*(rand(Nflips) < 0.5) - 1\n",
    "    X = flips.sum()\n",
    "    \n",
    "    # Replace \"if True:\" with a conditional statement that will do the following.\n",
    "    #    IF the first Nstart flips are heads, store X in \"data\" and increment \"count\".\n",
    "    #    OTHERWISE, do nothing and continue to the next trial.\n",
    "    if sum(flips[:5]) == 5:\n",
    "        data[count] = X\n",
    "        count += 1\n",
    "        \n",
    "\n",
    "# Now use the data set to answer the question.\n",
    "if count == 0:\n",
    "    print(\"No trials started with {} heads.\".format(Nstart))\n",
    "else:\n",
    "    avgX = data[:count].sum() / count\n",
    "    print (\"There were {} trials that started with {} heads.\".format(count,Nstart))\n",
    "    print(\"The average of X for these trials was <X>= {:.4f}.\".format(avgX))\n"
   ]
  },
  {
   "cell_type": "markdown",
   "id": "a568067f",
   "metadata": {},
   "source": [
    "Run your code several times.  What patterns do you observe?\n",
    "\n",
    "-----"
   ]
  },
  {
   "cell_type": "markdown",
   "id": "c021f245",
   "metadata": {},
   "source": [
    "## it seems the range for the amoung of tirals that start with 5 heads is like 3 to 9 out of all of the 200\n",
    "\n",
    "## the average X for each of the \"successfull\" trials was normally about 5\n",
    "\n",
    "## Never an instance of 0 \"successfull\" trials"
   ]
  },
  {
   "cell_type": "markdown",
   "id": "d0a59d2d",
   "metadata": {},
   "source": [
    "-----\n",
    "\n",
    "## (b)\n",
    "\n",
    "Repeat for `Ntrials = 2000` and `Ntrials = 8000`.\n",
    "\n",
    "> Does the answer seem to be converging to zero, as predicted in the quoted text above? Whatever your answer, give some explanation for why the answer you found should have been expected.\n",
    "\n",
    "-----"
   ]
  },
  {
   "cell_type": "markdown",
   "id": "39fe4cef",
   "metadata": {},
   "source": [
    "## The answer is tending to about 250 every 8000 trials witch is 1 in every 32 trials about 3%. Even with 200 trials there were zero instances of zero trials with the first 5 flips not heads. With more trail data, this only confirms that it is not converging to 0."
   ]
  },
  {
   "cell_type": "markdown",
   "id": "86ce2eec",
   "metadata": {},
   "source": [
    "-----\n",
    "\n",
    "## (c)\n",
    "\n",
    "Explore regression to the mean, as described in the problem text."
   ]
  },
  {
   "cell_type": "code",
   "execution_count": 107,
   "id": "aa170fae",
   "metadata": {},
   "outputs": [
    {
     "name": "stdout",
     "output_type": "stream",
     "text": [
      "There were 1551 trials that started with 5 heads.\n",
      "The average of X for these trials was <X>= 4.9800.\n"
     ]
    }
   ],
   "source": [
    "# Define the problem.\n",
    "Ntrials = 50000\n",
    "Nflips = 10\n",
    "Nstart = 5\n",
    "\n",
    "# Create an array to store the data we want.\n",
    "data = np.zeros(Ntrials)\n",
    "count = 0\n",
    "\n",
    "# Generate Ntrials sequences of Nflips coin flips, and sum.\n",
    "for n in range(Ntrials):\n",
    "    flips = 2*(rand(Nflips) < 0.5) - 1\n",
    "    X = flips.sum()\n",
    "    \n",
    "    # Replace \"if True:\" with a conditional statement that will do the following.\n",
    "    #    IF the first Nstart flips are heads, store X in \"data\" and increment \"count\".\n",
    "    #    OTHERWISE, do nothing and continue to the next trial.\n",
    "    if sum(flips[:5]) == 5:\n",
    "        data[count] = X\n",
    "        count += 1\n",
    "        \n",
    "\n",
    "# Now use the data set to answer the question.\n",
    "if count == 0:\n",
    "    print(\"No trials started with {} heads.\".format(Nstart))\n",
    "else:\n",
    "    avgX = data[:count].sum() / count\n",
    "    print (\"There were {} trials that started with {} heads.\".format(count,Nstart))\n",
    "    print(\"The average of X for these trials was <X>= {:.4f}.\".format(avgX))\n"
   ]
  },
  {
   "cell_type": "code",
   "execution_count": 108,
   "id": "7039d400",
   "metadata": {},
   "outputs": [
    {
     "name": "stdout",
     "output_type": "stream",
     "text": [
      "There were 1546 trials that started with 5 heads.\n",
      "The average of X for these trials was <X>= 4.9172.\n"
     ]
    }
   ],
   "source": [
    "# Define the problem.\n",
    "Ntrials = 50000\n",
    "Nflips = 100\n",
    "Nstart = 5\n",
    "\n",
    "# Create an array to store the data we want.\n",
    "data = np.zeros(Ntrials)\n",
    "count = 0\n",
    "\n",
    "# Generate Ntrials sequences of Nflips coin flips, and sum.\n",
    "for n in range(Ntrials):\n",
    "    flips = 2*(rand(Nflips) < 0.5) - 1\n",
    "    X = flips.sum()\n",
    "    \n",
    "    # Replace \"if True:\" with a conditional statement that will do the following.\n",
    "    #    IF the first Nstart flips are heads, store X in \"data\" and increment \"count\".\n",
    "    #    OTHERWISE, do nothing and continue to the next trial.\n",
    "    if sum(flips[:5]) == 5:\n",
    "        data[count] = X\n",
    "        count += 1\n",
    "        \n",
    "\n",
    "# Now use the data set to answer the question.\n",
    "if count == 0:\n",
    "    print(\"No trials started with {} heads.\".format(Nstart))\n",
    "else:\n",
    "    avgX = data[:count].sum() / count\n",
    "    print (\"There were {} trials that started with {} heads.\".format(count,Nstart))\n",
    "    print(\"The average of X for these trials was <X>= {:.4f}.\".format(avgX))\n"
   ]
  },
  {
   "cell_type": "code",
   "execution_count": 109,
   "id": "3d02d5eb",
   "metadata": {},
   "outputs": [
    {
     "name": "stdout",
     "output_type": "stream",
     "text": [
      "There were 1582 trials that started with 5 heads.\n",
      "The average of X for these trials was <X>= 5.4349.\n"
     ]
    }
   ],
   "source": [
    "# Define the problem.\n",
    "Ntrials = 50000\n",
    "Nflips = 500\n",
    "Nstart = 5\n",
    "\n",
    "# Create an array to store the data we want.\n",
    "data = np.zeros(Ntrials)\n",
    "count = 0\n",
    "\n",
    "# Generate Ntrials sequences of Nflips coin flips, and sum.\n",
    "for n in range(Ntrials):\n",
    "    flips = 2*(rand(Nflips) < 0.5) - 1\n",
    "    X = flips.sum()\n",
    "    \n",
    "    # Replace \"if True:\" with a conditional statement that will do the following.\n",
    "    #    IF the first Nstart flips are heads, store X in \"data\" and increment \"count\".\n",
    "    #    OTHERWISE, do nothing and continue to the next trial.\n",
    "    if sum(flips[:5]) == 5:\n",
    "        data[count] = X\n",
    "        count += 1\n",
    "        \n",
    "\n",
    "# Now use the data set to answer the question.\n",
    "if count == 0:\n",
    "    print(\"No trials started with {} heads.\".format(Nstart))\n",
    "else:\n",
    "    avgX = data[:count].sum() / count\n",
    "    print (\"There were {} trials that started with {} heads.\".format(count,Nstart))\n",
    "    print(\"The average of X for these trials was <X>= {:.4f}.\".format(avgX))\n"
   ]
  },
  {
   "cell_type": "code",
   "execution_count": 110,
   "id": "52dc4849",
   "metadata": {},
   "outputs": [
    {
     "name": "stdout",
     "output_type": "stream",
     "text": [
      "There were 1576 trials that started with 5 heads.\n",
      "The average of X for these trials was <X>= 3.5990.\n"
     ]
    }
   ],
   "source": [
    "# Define the problem.\n",
    "Ntrials = 50000\n",
    "Nflips = 2500\n",
    "Nstart = 5\n",
    "\n",
    "# Create an array to store the data we want.\n",
    "data = np.zeros(Ntrials)\n",
    "count = 0\n",
    "\n",
    "# Generate Ntrials sequences of Nflips coin flips, and sum.\n",
    "for n in range(Ntrials):\n",
    "    flips = 2*(rand(Nflips) < 0.5) - 1\n",
    "    X = flips.sum()\n",
    "    \n",
    "    # Replace \"if True:\" with a conditional statement that will do the following.\n",
    "    #    IF the first Nstart flips are heads, store X in \"data\" and increment \"count\".\n",
    "    #    OTHERWISE, do nothing and continue to the next trial.\n",
    "    if sum(flips[:5]) == 5:\n",
    "        data[count] = X\n",
    "        count += 1\n",
    "        \n",
    "\n",
    "# Now use the data set to answer the question.\n",
    "if count == 0:\n",
    "    print(\"No trials started with {} heads.\".format(Nstart))\n",
    "else:\n",
    "    avgX = data[:count].sum() / count\n",
    "    print (\"There were {} trials that started with {} heads.\".format(count,Nstart))\n",
    "    print(\"The average of X for these trials was <X>= {:.4f}.\".format(avgX))\n"
   ]
  },
  {
   "cell_type": "markdown",
   "id": "2d3b3ac6",
   "metadata": {},
   "source": [
    "Comment on your observations.\n",
    "\n",
    "-----"
   ]
  },
  {
   "cell_type": "markdown",
   "id": "4a59cb3c",
   "metadata": {},
   "source": [
    "## It seems that the number of flips per trial does not effect the outcome, they all still show about a 3 percent chance of 5 heads in the first 5 flips of each trial."
   ]
  },
  {
   "cell_type": "markdown",
   "id": "ae008467",
   "metadata": {},
   "source": [
    "-----\n",
    "\n",
    "## (d)\n",
    "\n",
    "Evaluate the ___spread___ of $X$ for large numbers of trials, as described in the text."
   ]
  },
  {
   "cell_type": "code",
   "execution_count": null,
   "id": "bfbc55ba",
   "metadata": {},
   "outputs": [],
   "source": [
    "\n",
    "\n"
   ]
  },
  {
   "cell_type": "markdown",
   "id": "365cdafe",
   "metadata": {},
   "source": [
    "Comment on your observations.\n",
    "\n",
    "-----"
   ]
  },
  {
   "cell_type": "markdown",
   "id": "735adef2",
   "metadata": {},
   "source": []
  },
  {
   "cell_type": "markdown",
   "id": "a87f68ee",
   "metadata": {},
   "source": [
    "_____\n",
    "\n",
    "## (e)\n",
    "\n",
    "Discuss which proposition better describes your findings.\n",
    "\n",
    "> If the first N flips are heads, the next series flips will be more than half tails, in order to pull X closer to zero, because X ‘wants’ to be zero on average.\n",
    "\n",
    "... or ...\n",
    "\n",
    "> The effect of unusual past behavior doesn’t disappear; it just gets diluted as time goes on.\n",
    "\n",
    "-----"
   ]
  },
  {
   "cell_type": "markdown",
   "id": "b6261c64",
   "metadata": {},
   "source": []
  }
 ],
 "metadata": {
  "kernelspec": {
   "display_name": "Python 3 (ipykernel)",
   "language": "python",
   "name": "python3"
  },
  "language_info": {
   "codemirror_mode": {
    "name": "ipython",
    "version": 3
   },
   "file_extension": ".py",
   "mimetype": "text/x-python",
   "name": "python",
   "nbconvert_exporter": "python",
   "pygments_lexer": "ipython3",
   "version": "3.9.7"
  }
 },
 "nbformat": 4,
 "nbformat_minor": 5
}
