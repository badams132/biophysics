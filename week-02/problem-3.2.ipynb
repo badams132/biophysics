{
 "cells": [
  {
   "cell_type": "markdown",
   "id": "a548ae9e",
   "metadata": {},
   "source": [
    "# Problem 3.2\n",
    "\n",
    "In this problem, you will learn to use a random number generator and create histograms.  This material is the subject of Chapter 6 in _A Student's Guide to Python._"
   ]
  },
  {
   "cell_type": "code",
   "execution_count": 1,
   "id": "812cc9e6",
   "metadata": {},
   "outputs": [],
   "source": [
    "# Standard setup\n",
    "import numpy as np\n",
    "import matplotlib.pyplot as plt\n",
    "\n",
    "# Create a random number generator\n",
    "from numpy.random import default_rng\n",
    "rng = default_rng()\n",
    "\n",
    "# Draw from the Uniform Distribution\n",
    "rand = rng.random"
   ]
  },
  {
   "cell_type": "markdown",
   "id": "90afca0d",
   "metadata": {},
   "source": [
    "Run the cell below several times."
   ]
  },
  {
   "cell_type": "code",
   "execution_count": 2,
   "id": "32aa97c6",
   "metadata": {},
   "outputs": [
    {
     "data": {
      "text/plain": [
       "array([0.78490457, 0.89583721, 0.29499226, 0.6047127 , 0.44264847,\n",
       "       0.40136522, 0.17563721, 0.64454256, 0.79206041, 0.27831258,\n",
       "       0.40087194, 0.89094135, 0.42269452, 0.29926289, 0.8294569 ,\n",
       "       0.73322931, 0.11554059, 0.60131159, 0.37596482, 0.71014846,\n",
       "       0.33457461, 0.0132257 , 0.65411499, 0.14290671, 0.10247569,\n",
       "       0.60941972, 0.15850806, 0.69497545, 0.63818442, 0.76978028,\n",
       "       0.66883152, 0.9942371 , 0.96125469, 0.76252225, 0.4880693 ,\n",
       "       0.55546471, 0.37054345, 0.44590996, 0.22316473, 0.57999534,\n",
       "       0.36584198, 0.35304868, 0.19697861, 0.96187105, 0.32076899,\n",
       "       0.78738082, 0.50969321, 0.16062535, 0.77557444, 0.54982588,\n",
       "       0.1153109 , 0.29771231, 0.37234674, 0.21805438, 0.42457361,\n",
       "       0.74178459, 0.82307697, 0.95676132, 0.35036116, 0.48021576,\n",
       "       0.78670499, 0.2135303 , 0.55357615, 0.51203681, 0.07752019,\n",
       "       0.18547005, 0.04229685, 0.66844198, 0.20059448, 0.85166725,\n",
       "       0.37158725, 0.14279197, 0.94252394, 0.76947505, 0.14371244,\n",
       "       0.04501793, 0.8539456 , 0.32259446, 0.30200209, 0.47883963,\n",
       "       0.88639519, 0.66524227, 0.92043506, 0.18899419, 0.04887504,\n",
       "       0.65156879, 0.68139691, 0.44016287, 0.08498477, 0.03844845,\n",
       "       0.90465343, 0.31082058, 0.6618637 , 0.69561777, 0.7802962 ,\n",
       "       0.22811346, 0.06113418, 0.30741934, 0.52448897, 0.74878723])"
      ]
     },
     "execution_count": 2,
     "metadata": {},
     "output_type": "execute_result"
    }
   ],
   "source": [
    "rand(100)"
   ]
  },
  {
   "cell_type": "markdown",
   "id": "d19b6de1",
   "metadata": {},
   "source": [
    "Every time you call `rand()`, Python generates a random number between 0 and 1.  We can use Python's logic functions to turn this into a binary function.  Run the cell below several times."
   ]
  },
  {
   "cell_type": "code",
   "execution_count": 3,
   "id": "dfda4b0f",
   "metadata": {},
   "outputs": [
    {
     "data": {
      "text/plain": [
       "array([False,  True, False, False, False, False, False, False, False,\n",
       "       False,  True, False,  True, False,  True, False, False,  True,\n",
       "       False,  True,  True,  True, False,  True,  True,  True, False,\n",
       "       False,  True,  True, False,  True, False, False,  True,  True,\n",
       "        True,  True, False, False,  True,  True,  True,  True,  True,\n",
       "       False, False, False, False,  True, False,  True, False, False,\n",
       "       False,  True, False,  True, False,  True, False,  True, False,\n",
       "       False, False, False, False, False, False, False, False, False,\n",
       "        True, False, False,  True,  True,  True, False, False, False,\n",
       "       False, False, False,  True, False,  True,  True, False, False,\n",
       "        True,  True, False,  True, False, False, False, False, False,\n",
       "       False])"
      ]
     },
     "execution_count": 3,
     "metadata": {},
     "output_type": "execute_result"
    }
   ],
   "source": [
    "rand(100) < 0.5"
   ]
  },
  {
   "cell_type": "markdown",
   "id": "18c5f634",
   "metadata": {},
   "source": [
    "Describe what the output, and how it might be used to simulate the flip of a coin.\n",
    "\n",
    "-----"
   ]
  },
  {
   "cell_type": "markdown",
   "id": "c560a604",
   "metadata": {},
   "source": [
    "## The output evaulates each random number, and if the random number is less than 5 the output is 1 or True, if greater than .5 the ouptut is 0 or False.\n",
    "\n",
    "## For a coinflip, we could evauluate the same way. If we assign as less than .5 as heads and greater than .5 as tails, we could get some approximation on how many times of ,lets say 100, will the result be heads or tails."
   ]
  },
  {
   "cell_type": "markdown",
   "id": "346be741",
   "metadata": {},
   "source": [
    "-----\n",
    "\n",
    "The goal of this problem is to \"generate 6000 six-bit random binary fractions\" and plot the result as a histogram.  Thus, we need to flip a coin six times, then use the results of each flip to create a binary fraction.  Let $s_n$ be the outcome of the $n$-th flip.  Then, the number generated by a set of six flips is\n",
    "\n",
    "$$x = \\dfrac{s_0}{2} + \\dfrac{s_1}{2^2} + \\dfrac{s_2}{2^3} + \\dfrac{s_3}{2^4} + \\dfrac{s_4}{2^5} + \\dfrac{s_5}{2^6}$$\n",
    "\n",
    "(This uses Python indexing for the coin flips.)\n",
    "\n",
    "Run the following cell several times.  Verify that it generates a six-bit random binary fraction, then explain how it works.  That is, parse each line an explain how the Python code is implementing the matematical formula above.\n",
    "\n",
    "-----"
   ]
  },
  {
   "cell_type": "code",
   "execution_count": 4,
   "id": "5e39c875",
   "metadata": {},
   "outputs": [
    {
     "name": "stdout",
     "output_type": "stream",
     "text": [
      "x= 0.984375\n",
      "[ True  True  True  True  True  True]\n"
     ]
    }
   ],
   "source": [
    "s = rand(6) < 0.5\n",
    "x = np.sum(s / 2**np.arange(1,7))\n",
    "\n",
    "print(\"x= {}\".format(x))\n",
    "print (s)\n",
    "#print (x)"
   ]
  },
  {
   "cell_type": "markdown",
   "id": "eb58a7ff",
   "metadata": {},
   "source": [
    "## s = rand(6) < 0.5 => generates 6 random numbers and evaulates them as less than 0.5.\n",
    "\n",
    "## x = np.sum(s / 2**np.arange(1,7)) => adds together each random number divided by 2^(when the number was generated from 1 to 6).\n",
    "\n",
    "## print(\"x= {}\".format(x)) => gives us the value of x in the format x=..."
   ]
  },
  {
   "cell_type": "markdown",
   "id": "2459c9f6",
   "metadata": {},
   "source": [
    "------\n",
    "\n",
    "Now, write a `for` loop that will create an array and fill it with `N=6,000` six-bit random binary fractions.  (You can copy and paste the first two lines of the code cell above into the body of the `for` loop, or develop your own algorithm.)"
   ]
  },
  {
   "cell_type": "code",
   "execution_count": 8,
   "id": "f2ce7fcc",
   "metadata": {},
   "outputs": [
    {
     "name": "stdout",
     "output_type": "stream",
     "text": [
      "[0.6875   0.046875 0.125    ... 0.25     0.28125  0.09375 ]\n"
     ]
    }
   ],
   "source": [
    "x=np.zeros(6001)\n",
    "for N in np.arange(6001):\n",
    "    s = rand(6) < .5\n",
    "    x[N] = np.sum(s / 2**np.arange(1,7))\n",
    "print(x)\n"
   ]
  },
  {
   "cell_type": "markdown",
   "id": "489acbd8",
   "metadata": {},
   "source": [
    "Use `plt.hist` to create a histogram of your data set."
   ]
  },
  {
   "cell_type": "code",
   "execution_count": 12,
   "id": "03a066f2",
   "metadata": {},
   "outputs": [
    {
     "data": {
      "text/plain": [
       "(array([ 94.,  90.,   0.,  91.,  96.,   0.,  91.,  81.,   0.,  95.,   0.,\n",
       "        102.,  66.,   0.,  94.,  98.,   0.,  75.,   0.,  82.,  99.,   0.,\n",
       "         93.,  96.,   0.,  95.,  99.,   0.,  94.,   0.,  82., 100.,   0.,\n",
       "        112.,  92.,   0., 103.,   0.,  86.,  98.,   0., 107.,  80.,   0.,\n",
       "         91.,   0., 104., 113.,   0.,  87.,  88.,   0.,  81.,  89.,   0.,\n",
       "         95.,   0.,  93.,  86.,   0.,  96., 109.,   0.,  96.,   0.,  95.,\n",
       "        107.,   0.,  97.,  96.,   0.,  82.,   0., 116., 105.,   0., 103.,\n",
       "        102.,   0.,  88.,  92.,   0.,  73.,   0.,  86.,  96.,   0.,  93.,\n",
       "        101.,   0.,  91.,   0.,  79.,  85.,   0., 105.,  99.,   0.,  98.,\n",
       "         93.]),\n",
       " array([0.        , 0.00984375, 0.0196875 , 0.02953125, 0.039375  ,\n",
       "        0.04921875, 0.0590625 , 0.06890625, 0.07875   , 0.08859375,\n",
       "        0.0984375 , 0.10828125, 0.118125  , 0.12796875, 0.1378125 ,\n",
       "        0.14765625, 0.1575    , 0.16734375, 0.1771875 , 0.18703125,\n",
       "        0.196875  , 0.20671875, 0.2165625 , 0.22640625, 0.23625   ,\n",
       "        0.24609375, 0.2559375 , 0.26578125, 0.275625  , 0.28546875,\n",
       "        0.2953125 , 0.30515625, 0.315     , 0.32484375, 0.3346875 ,\n",
       "        0.34453125, 0.354375  , 0.36421875, 0.3740625 , 0.38390625,\n",
       "        0.39375   , 0.40359375, 0.4134375 , 0.42328125, 0.433125  ,\n",
       "        0.44296875, 0.4528125 , 0.46265625, 0.4725    , 0.48234375,\n",
       "        0.4921875 , 0.50203125, 0.511875  , 0.52171875, 0.5315625 ,\n",
       "        0.54140625, 0.55125   , 0.56109375, 0.5709375 , 0.58078125,\n",
       "        0.590625  , 0.60046875, 0.6103125 , 0.62015625, 0.63      ,\n",
       "        0.63984375, 0.6496875 , 0.65953125, 0.669375  , 0.67921875,\n",
       "        0.6890625 , 0.69890625, 0.70875   , 0.71859375, 0.7284375 ,\n",
       "        0.73828125, 0.748125  , 0.75796875, 0.7678125 , 0.77765625,\n",
       "        0.7875    , 0.79734375, 0.8071875 , 0.81703125, 0.826875  ,\n",
       "        0.83671875, 0.8465625 , 0.85640625, 0.86625   , 0.87609375,\n",
       "        0.8859375 , 0.89578125, 0.905625  , 0.91546875, 0.9253125 ,\n",
       "        0.93515625, 0.945     , 0.95484375, 0.9646875 , 0.97453125,\n",
       "        0.984375  ]),\n",
       " <BarContainer object of 100 artists>)"
      ]
     },
     "execution_count": 12,
     "metadata": {},
     "output_type": "execute_result"
    },
    {
     "data": {
      "image/png": "[encoded data removed]",
      "text/plain": [
       "<Figure size 432x288 with 1 Axes>"
      ]
     },
     "metadata": {
      "needs_background": "light"
     },
     "output_type": "display_data"
    }
   ],
   "source": [
    "\n",
    "plt.hist(x,100)"
   ]
  },
  {
   "cell_type": "markdown",
   "id": "ca9a1821",
   "metadata": {},
   "source": [
    "## Bonus"
   ]
  },
  {
   "cell_type": "markdown",
   "id": "fa939acf",
   "metadata": {},
   "source": [
    "___Challenge 1:___  Use `plt.subplot` or `plt.subplots` to make a single row of three separate histograms.  (See Section 4.3.9 for details.)  Use 10 bins for the first, 100 for the second, and 1000 bins for the third."
   ]
  },
  {
   "cell_type": "code",
   "execution_count": null,
   "id": "1689b474",
   "metadata": {},
   "outputs": [],
   "source": []
  },
  {
   "cell_type": "markdown",
   "id": "039f6a4b",
   "metadata": {},
   "source": [
    "___Challenge 2:___ Write the body of the function described below.  Include comments.  Test and debug it.\n",
    "\n",
    "Plotting a histogram of `binary_fractions(6,6000)` should produce similar output to what you created above ..."
   ]
  },
  {
   "cell_type": "code",
   "execution_count": null,
   "id": "1611e64c",
   "metadata": {},
   "outputs": [],
   "source": [
    "def binary_fractions(m, N):\n",
    "    \"\"\"\n",
    "    Generate and return an array of N m-bit binary fractions.\n",
    "    \n",
    "    Input\n",
    "        m = number of bits\n",
    "        N = number of binary fractions to generate\n",
    "    \n",
    "    Returns\n",
    "        x = N-element array of m-bit binary fractions\n",
    "    \"\"\""
   ]
  }
 ],
 "metadata": {
  "kernelspec": {
   "display_name": "Python 3 (ipykernel)",
   "language": "python",
   "name": "python3"
  },
  "language_info": {
   "codemirror_mode": {
    "name": "ipython",
    "version": 3
   },
   "file_extension": ".py",
   "mimetype": "text/x-python",
   "name": "python",
   "nbconvert_exporter": "python",
   "pygments_lexer": "ipython3",
   "version": "3.9.7"
  }
 },
 "nbformat": 4,
 "nbformat_minor": 5
}
