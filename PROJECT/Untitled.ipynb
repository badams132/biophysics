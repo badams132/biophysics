{
 "cells": [
  {
   "cell_type": "code",
   "execution_count": 1,
   "id": "21cdc46a",
   "metadata": {},
   "outputs": [],
   "source": [
    "import numpy as np\n",
    "import matplotlib.pyplot as plt\n",
    "import pandas as pd\n",
    "from scipy.stats import norm"
   ]
  },
  {
   "cell_type": "code",
   "execution_count": 2,
   "id": "d6fb7a89",
   "metadata": {},
   "outputs": [],
   "source": [
    "data_2017 = pd.read_csv('2017 league wide averages.csv' , delimiter=',')"
   ]
  },
  {
   "cell_type": "code",
   "execution_count": 3,
   "id": "4b7f7e6e",
   "metadata": {},
   "outputs": [],
   "source": [
    "obp_avg = data_2017[\"OBP\"]\n",
    "#print(league_averages)"
   ]
  },
  {
   "cell_type": "code",
   "execution_count": 4,
   "id": "e5b9a842",
   "metadata": {},
   "outputs": [
    {
     "data": {
      "text/plain": [
       "<matplotlib.legend.Legend at 0x1c66e385af0>"
      ]
     },
     "execution_count": 4,
     "metadata": {},
     "output_type": "execute_result"
    },
    {
     "data": {
      "image/png": "[encoded data removed]",
      "text/plain": [
       "<Figure size 432x288 with 1 Axes>"
      ]
     },
     "metadata": {
      "needs_background": "light"
     },
     "output_type": "display_data"
    }
   ],
   "source": [
    "plt.hist(obp_avg,bins=10);\n",
    "plt.plot(.346,1,'o',label = \"astros\");\n",
    "plt.plot(.329,1,'o',label = \"sox\" )\n",
    "plt.plot(.338,1, 'o',label = \"cubs\")\n",
    "plt.plot(.339,1, 'o',label = \"CLE\")\n",
    "plt.plot(.332,1, 'o',label = \"NATS\")\n",
    "plt.plot(.334,1, 'o',label = \"Dodgers\")\n",
    "plt.legend()\n",
    "\n",
    "\n",
    "#mu, std = norm.fit(obp_avg)\n",
    "#xmin, xmax = plt.xlim()\n",
    "#x = np.linspace(xmin, xmax, 100)\n",
    "#p = norm.pdf(x, mu, std)\n",
    "#help(norm.pdf)\n",
    "#plt.plot(x, p/2.95, 'r', linewidth=2)"
   ]
  },
  {
   "cell_type": "code",
   "execution_count": 5,
   "id": "83b19013",
   "metadata": {},
   "outputs": [
    {
     "data": {
      "image/png": "[encoded data removed]",
      "text/plain": [
       "<Figure size 432x288 with 1 Axes>"
      ]
     },
     "metadata": {
      "needs_background": "light"
     },
     "output_type": "display_data"
    }
   ],
   "source": [
    "avg_avg = data_2017[\"BA\"]\n",
    "plt.hist(avg_avg,bins=10);\n",
    "plt.plot(.282,1,'o');\n",
    "\n",
    "#mu, std = norm.fit(avg_avg)\n",
    "#xmin, xmax = plt.xlim()\n",
    "#x = np.linspace(xmin, xmax, 100)\n",
    "#p = norm.pdf(x, mu, std)\n",
    "#help(norm.pdf)\n",
    "#plt.plot(x, p/6.5, 'r', linewidth=2)"
   ]
  },
  {
   "cell_type": "code",
   "execution_count": 6,
   "id": "19bcff7b",
   "metadata": {},
   "outputs": [
    {
     "data": {
      "text/plain": [
       "[<matplotlib.lines.Line2D at 0x1c66e529c70>]"
      ]
     },
     "execution_count": 6,
     "metadata": {},
     "output_type": "execute_result"
    },
    {
     "data": {
      "image/png": "[encoded data removed]",
      "text/plain": [
       "<Figure size 432x288 with 1 Axes>"
      ]
     },
     "metadata": {
      "needs_background": "light"
     },
     "output_type": "display_data"
    }
   ],
   "source": [
    "runs_avg = data_2017[\"R\"]\n",
    "\n",
    "plt.hist(runs_avg, range=(550,950), bins=11)\n",
    "#print(runs_avg)\n",
    "plt.plot(896,1,'o')"
   ]
  },
  {
   "cell_type": "code",
   "execution_count": 7,
   "id": "0d0239cd",
   "metadata": {},
   "outputs": [
    {
     "data": {
      "text/plain": [
       "[<matplotlib.lines.Line2D at 0x1c66e4efb20>]"
      ]
     },
     "execution_count": 7,
     "metadata": {},
     "output_type": "execute_result"
    },
    {
     "data": {
      "image/png": "[encoded data removed]",
      "text/plain": [
       "<Figure size 432x288 with 1 Axes>"
      ]
     },
     "metadata": {
      "needs_background": "light"
     },
     "output_type": "display_data"
    }
   ],
   "source": [
    "hr_avg = data_2017[\"HR\"]\n",
    "\n",
    "plt.hist(hr_avg, range = (100,275), bins=10)\n",
    "plt.plot(238,1,'o')"
   ]
  },
  {
   "cell_type": "code",
   "execution_count": 8,
   "id": "2fa15137",
   "metadata": {},
   "outputs": [
    {
     "data": {
      "text/plain": [
       "[<matplotlib.lines.Line2D at 0x1c66e5b4a60>]"
      ]
     },
     "execution_count": 8,
     "metadata": {},
     "output_type": "execute_result"
    },
    {
     "data": {
      "image/png": "[encoded data removed]",
      "text/plain": [
       "<Figure size 432x288 with 1 Axes>"
      ]
     },
     "metadata": {
      "needs_background": "light"
     },
     "output_type": "display_data"
    }
   ],
   "source": [
    "so_avg = data_2017[\"SO\"]\n",
    "\n",
    "plt.hist(so_avg, range = (950,1600))\n",
    "plt.plot(1087,1,'o')"
   ]
  },
  {
   "cell_type": "code",
   "execution_count": 9,
   "id": "f8af825f",
   "metadata": {},
   "outputs": [
    {
     "data": {
      "text/plain": [
       "[<matplotlib.lines.Line2D at 0x1c66e630c40>]"
      ]
     },
     "execution_count": 9,
     "metadata": {},
     "output_type": "execute_result"
    },
    {
     "data": {
      "image/png": "[encoded data removed]",
      "text/plain": [
       "<Figure size 432x288 with 1 Axes>"
      ]
     },
     "metadata": {
      "needs_background": "light"
     },
     "output_type": "display_data"
    }
   ],
   "source": [
    "hits_avg = data_2017[\"H\"]\n",
    "\n",
    "plt.hist(hits_avg, range=(1200,1600))\n",
    "plt.plot(1581,1,'o')"
   ]
  },
  {
   "cell_type": "code",
   "execution_count": 41,
   "id": "d3c87cc0",
   "metadata": {},
   "outputs": [
    {
     "data": {
      "text/plain": [
       "[<matplotlib.lines.Line2D at 0x223ded81760>]"
      ]
     },
     "execution_count": 41,
     "metadata": {},
     "output_type": "execute_result"
    },
    {
     "data": {
      "image/png": "[encoded data removed]",
      "text/plain": [
       "<Figure size 432x288 with 1 Axes>"
      ]
     },
     "metadata": {
      "needs_background": "light"
     },
     "output_type": "display_data"
    }
   ],
   "source": [
    "slg_avg = data_2017[\"SLG\"]\n",
    "\n",
    "plt.hist(slg_avg,bins=11)\n",
    "plt.plot(.478,1,'o')"
   ]
  },
  {
   "cell_type": "code",
   "execution_count": 42,
   "id": "58636d32",
   "metadata": {},
   "outputs": [],
   "source": [
    "data_2016 = pd.read_csv('2016 league wide averages.csv' , delimiter=',')"
   ]
  },
  {
   "cell_type": "code",
   "execution_count": 45,
   "id": "52e0e5ad",
   "metadata": {},
   "outputs": [
    {
     "data": {
      "text/plain": [
       "[<matplotlib.lines.Line2D at 0x223deeecca0>]"
      ]
     },
     "execution_count": 45,
     "metadata": {},
     "output_type": "execute_result"
    },
    {
     "data": {
      "image/png": "[encoded data removed]",
      "text/plain": [
       "<Figure size 432x288 with 1 Axes>"
      ]
     },
     "metadata": {
      "needs_background": "light"
     },
     "output_type": "display_data"
    }
   ],
   "source": [
    "obp_averages = data_2016[\"OBP\"]\n",
    "plt.hist(obp_averages, bins=10)\n",
    "plt.plot(.319,1,'o')"
   ]
  },
  {
   "cell_type": "code",
   "execution_count": 102,
   "id": "b92c7517",
   "metadata": {},
   "outputs": [
    {
     "name": "stdout",
     "output_type": "stream",
     "text": [
      "0.699421721899704\n"
     ]
    }
   ],
   "source": [
    "\n",
    "\n",
    "corr_obp_avg = np.mean( (avg_avg - avg_avg.mean()) * (obp_avg - obp_avg.mean()) ) / avg_avg.std() / obp_avg.std()\n",
    "print(corr_obp_avg)"
   ]
  },
  {
   "cell_type": "code",
   "execution_count": null,
   "id": "768caa13",
   "metadata": {},
   "outputs": [],
   "source": []
  }
 ],
 "metadata": {
  "kernelspec": {
   "display_name": "Python 3 (ipykernel)",
   "language": "python",
   "name": "python3"
  },
  "language_info": {
   "codemirror_mode": {
    "name": "ipython",
    "version": 3
   },
   "file_extension": ".py",
   "mimetype": "text/x-python",
   "name": "python",
   "nbconvert_exporter": "python",
   "pygments_lexer": "ipython3",
   "version": "3.9.7"
  }
 },
 "nbformat": 4,
 "nbformat_minor": 5
}
