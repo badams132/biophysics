{
 "cells": [
  {
   "cell_type": "markdown",
   "id": "b7b17d78",
   "metadata": {},
   "source": [
    "# Problem 5.11\n",
    "\n",
    "Use this notebook to present your work on the problem.  If you write scripts, store them in this folder and run them within this notebook to produce the requested histograms and graphs."
   ]
  },
  {
   "cell_type": "markdown",
   "id": "482f03dd",
   "metadata": {},
   "source": [
    "## (a) Sums of random variables\n",
    "\n",
    "Write Python code to generate a histogram of 50,000 samples of a random variable $y = x_1 + x_2$ where $x_1$ and $x_2$ are random variables drawn from the uniform distribution over $[-1/2, 1/2]$.  Superimpose a plot of the expected probability distribution function for this variable."
   ]
  },
  {
   "cell_type": "code",
   "execution_count": 66,
   "id": "9245f3b5",
   "metadata": {},
   "outputs": [
    {
     "name": "stdout",
     "output_type": "stream",
     "text": [
      "[1074.15993605 2367.09237992 4281.29250277 6355.475209   7743.45169196\n",
      " 7743.45169196 6355.475209   4281.29250277 2367.09237992 1074.15993605]\n"
     ]
    },
    {
     "data": {
      "text/plain": [
       "[<matplotlib.lines.Line2D at 0x1d21f1f95e0>]"
      ]
     },
     "execution_count": 66,
     "metadata": {},
     "output_type": "execute_result"
    },
    {
     "data": {
      "image/png": "[encoded data removed]",
      "text/plain": [
       "<Figure size 432x288 with 1 Axes>"
      ]
     },
     "metadata": {
      "needs_background": "light"
     },
     "output_type": "display_data"
    }
   ],
   "source": [
    "import numpy as np\n",
    "import matplotlib.pyplot as plt\n",
    "\n",
    "from numpy.random import default_rng\n",
    "rand = default_rng().random\n",
    "\n",
    "\n",
    "N = 50000\n",
    "x1 = rand(N) - 0.5\n",
    "x2 = rand(N) - 0.5\n",
    "k = np.linspace(-1,1,10)\n",
    "\n",
    "\n",
    "y = (x1 + x2) \n",
    "\n",
    "plt.hist(y)\n",
    "\n",
    "counts, bins, *other = np.histogram(y)\n",
    "\n",
    "dx = bins[1]-bins[0]\n",
    "\n",
    "\n",
    "def normal_pdf (x, mu, sigma):\n",
    "    return (1 / (sigma * np.sqrt(2 * np.pi))) * np.exp((-(1 / 2) * ((x - mu) / sigma)**2 ))\n",
    "\n",
    "pdf = normal_pdf (k ,0, .5)\n",
    "\n",
    "final_pdf =  N * dx * pdf\n",
    "print(final_pdf)\n",
    "                                                    \n",
    "plt.plot(k, final_pdf , 'r+')"
   ]
  },
  {
   "cell_type": "markdown",
   "id": "9e375d57",
   "metadata": {},
   "source": [
    "Write Python code to generate a histogram of 50,000 samples of a random variable $y = x_1 + x_2 + x_3 + x_4$ where $x_n$ are random variables drawn from the uniform distribution over $[-1/2, 1/2]$.  Superimpose a plot of the expected probability distribution function for this variable."
   ]
  },
  {
   "cell_type": "code",
   "execution_count": 84,
   "id": "db7224e3",
   "metadata": {},
   "outputs": [
    {
     "name": "stdout",
     "output_type": "stream",
     "text": [
      "[  194.40348454   431.69518546   877.3105409   1631.67053844\n",
      "  2777.24746271  4326.13101382  6167.19582627  8045.9770988\n",
      "  9606.6690097  10497.11235026 10497.11235026  9606.6690097\n",
      "  8045.9770988   6167.19582627  4326.13101382  2777.24746271\n",
      "  1631.67053844   877.3105409    431.69518546   194.40348454]\n"
     ]
    },
    {
     "data": {
      "text/plain": [
       "[<matplotlib.lines.Line2D at 0x1d220acc430>]"
      ]
     },
     "execution_count": 84,
     "metadata": {},
     "output_type": "execute_result"
    },
    {
     "data": {
      "image/png": "[encoded data removed]",
      "text/plain": [
       "<Figure size 432x288 with 1 Axes>"
      ]
     },
     "metadata": {
      "needs_background": "light"
     },
     "output_type": "display_data"
    }
   ],
   "source": [
    "N = 50000\n",
    "M = 4\n",
    "x = np.zeros(N);\n",
    "\n",
    "for m in range(M):\n",
    "    x += rand(N) - 0.5;\n",
    "    \n",
    "plt.hist(x); \n",
    "\n",
    "k = np.linspace(-2,2,20)\n",
    "counts, bins, *other = np.histogram(x)\n",
    "dx = bins[1]-bins[0]\n",
    "\n",
    "pdf = normal_pdf (k ,0, 1/np.sqrt(2))\n",
    "\n",
    "\n",
    "final_pdf =   N * dx * pdf\n",
    "print(final_pdf)\n",
    "                                                    \n",
    "plt.plot(k, final_pdf , 'r+')\n",
    "\n"
   ]
  },
  {
   "cell_type": "markdown",
   "id": "613ae000",
   "metadata": {},
   "source": [
    "## (b) Sums of _more_ random variables\n",
    "\n",
    "Write Python code to generate a histogram of 50,000 samples of a random variable $y$ that is the sum of __10__ random variables drawn from the uniform distribution over $[-1/2, 1/2]$.  Superimpose a plot of the expected probability distribution function for this variable."
   ]
  },
  {
   "cell_type": "code",
   "execution_count": 85,
   "id": "a8357d3c",
   "metadata": {},
   "outputs": [
    {
     "name": "stdout",
     "output_type": "stream",
     "text": [
      "[4.72987738e+00 2.33236331e+01 9.63271001e+01 3.33201337e+02\n",
      " 9.65319210e+02 2.34229249e+03 4.76011307e+03 8.10213314e+03\n",
      " 1.15501453e+04 1.37905467e+04 1.37905467e+04 1.15501453e+04\n",
      " 8.10213314e+03 4.76011307e+03 2.34229249e+03 9.65319210e+02\n",
      " 3.33201337e+02 9.63271001e+01 2.33236331e+01 4.72987738e+00]\n"
     ]
    },
    {
     "data": {
      "text/plain": [
       "[<matplotlib.lines.Line2D at 0x1d220b56040>]"
      ]
     },
     "execution_count": 85,
     "metadata": {},
     "output_type": "execute_result"
    },
    {
     "data": {
      "image/png": "[encoded data removed]",
      "text/plain": [
       "<Figure size 432x288 with 1 Axes>"
      ]
     },
     "metadata": {
      "needs_background": "light"
     },
     "output_type": "display_data"
    }
   ],
   "source": [
    "N = 50000\n",
    "M = 10\n",
    "x = np.zeros(N)\n",
    "\n",
    "for m in range(M):\n",
    "    x += rand(N) - 0.5;\n",
    "    \n",
    "plt.hist(x)  \n",
    "\n",
    "k = np.linspace(-4,4,20)\n",
    "counts, bins, *other = np.histogram(x)\n",
    "dx = bins[1]-bins[0]\n",
    "\n",
    "pdf = normal_pdf (k ,0, 1)\n",
    "\n",
    "\n",
    "final_pdf =   N * dx * pdf\n",
    "print(final_pdf)\n",
    "                                                    \n",
    "plt.plot(k, final_pdf , 'r+')"
   ]
  },
  {
   "cell_type": "markdown",
   "id": "a76d601a",
   "metadata": {},
   "source": [
    "## (c) Sums of nonuniform discrete random variables\n",
    "\n",
    "rite Python code to generate a histogram of 50,000 samples of a random variables $y$ that are the sum of __2__, __4__, and __10__ random variables drawn from the discrete distribution\n",
    "$$\n",
    "P(1) = \\dfrac{1}{3} \\qquad P(2) = \\dfrac{2}{9} \\qquad P(3) = \\dfrac{1}{9} \\qquad P(4) = \\dfrac{1}{3}\n",
    "$$"
   ]
  },
  {
   "cell_type": "code",
   "execution_count": null,
   "id": "8e0c0247",
   "metadata": {},
   "outputs": [],
   "source": []
  },
  {
   "cell_type": "markdown",
   "id": "f25c3c61",
   "metadata": {},
   "source": [
    "## (d) Sums of nonuniform continuous random variables\n",
    "\n",
    "Write Python code to generate a histogram of 50,000 samples of a random variables $y$ that are the sum of __5__ and __50__ random variables drawn from the exponential distribution with expectation 1."
   ]
  },
  {
   "cell_type": "code",
   "execution_count": null,
   "id": "04db07e6",
   "metadata": {},
   "outputs": [],
   "source": []
  },
  {
   "cell_type": "markdown",
   "id": "16877080",
   "metadata": {},
   "source": [
    "## Summarize your findings."
   ]
  },
  {
   "cell_type": "markdown",
   "id": "32e6f512",
   "metadata": {},
   "source": []
  }
 ],
 "metadata": {
  "kernelspec": {
   "display_name": "Python 3 (ipykernel)",
   "language": "python",
   "name": "python3"
  },
  "language_info": {
   "codemirror_mode": {
    "name": "ipython",
    "version": 3
   },
   "file_extension": ".py",
   "mimetype": "text/x-python",
   "name": "python",
   "nbconvert_exporter": "python",
   "pygments_lexer": "ipython3",
   "version": "3.9.7"
  }
 },
 "nbformat": 4,
 "nbformat_minor": 5
}
